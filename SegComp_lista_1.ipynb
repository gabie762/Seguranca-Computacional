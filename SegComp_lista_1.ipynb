{
  "nbformat": 4,
  "nbformat_minor": 0,
  "metadata": {
    "colab": {
      "provenance": [],
      "toc_visible": true
    },
    "kernelspec": {
      "name": "python3",
      "display_name": "Python 3"
    },
    "language_info": {
      "name": "python"
    }
  },
  "cells": [
    {
      "cell_type": "markdown",
      "source": [
        "#Segurança Computacional - Universidade de Brasília | Lista 1 | 2024.2 | Turma 02\n",
        "\n",
        "##Aluna: Gabriela de Oliveira Henriques | 211055254\n",
        "\n",
        "Introdução: Esta arquivo tem o intuito de realizar os dois exercícios de criptografia passados em sala de aula - Shift Cipher e Cifra por Transposição.\n",
        "\n",
        "\n",
        "---\n",
        "\n"
      ],
      "metadata": {
        "id": "2ZvlU786RbQ_"
      }
    },
    {
      "cell_type": "markdown",
      "source": [
        "##Exercício 1: Quebrando Shift Cipher\n",
        "\n",
        "* Elaborar o código para realizar a cifra por deslocamento (dica: validar para cifra de César onde k=3);\n",
        "* Elaborar o código que quebra a cifra por deslocamento, descodificando através de duas estratégias de ataques à cifra (CipherText-only):\n",
        "  * por distribuição de frequência;\n",
        "  * por ataque de força bruta;\n",
        "  * O resultado será o texto decriptografado e o tamanho da chave de deslocamento k."
      ],
      "metadata": {
        "id": "_TmneH6VSQrn"
      }
    },
    {
      "cell_type": "markdown",
      "source": [
        "### Função de Encriptação (`enc_shift`)\n",
        "\n",
        "Essa função recebe um texto não criptografado e a chave usada para encriptação. Toda a string é colocada para upper case para auxiliar no processo. Além disso, há uma string vazia onde será colocado o texto criptografado.\n",
        "\n",
        "Por fim, há um loop que rodará por toda a string do texto original. Nele, a função `ord` do Python transforma o caractere em seu respectivo número ASCII. Após isso, é subtraído o número 65. Isso ocorre pois todo o alfabeto maiúsculo de ASCII se encontra no intervalo dos números 65 até 90.\n",
        "\n",
        "Subtraindo esse número específico, é possível trabalhar algebricamente com o alfabeto correspondendo dos números de 0 a 25. Após isso, é retirado o módulo do caractere por 26, o que resulta no número da letra encriptografada. Por fim, é adicionado 65 novamente, para corresponder ao novo caracter que é adicionado na lista de `cipher_text`.\n",
        "\n",
        "\n",
        "A função tem tempo computacional O(n^2)."
      ],
      "metadata": {
        "id": "_Q9ySxHTgcly"
      }
    },
    {
      "cell_type": "code",
      "execution_count": null,
      "metadata": {
        "colab": {
          "base_uri": "https://localhost:8080/"
        },
        "id": "QnDtS_ArQ7_N",
        "outputId": "e2bbfcba-702b-45a7-eba1-0c41bf078a90"
      },
      "outputs": [
        {
          "output_type": "stream",
          "name": "stdout",
          "text": [
            "RODPXQGR!WXGREHP?\n"
          ]
        }
      ],
      "source": [
        "def enc_shift(plain_text, key):\n",
        "  \"\"\"\n",
        "  ### A função transforma todos os caracteres do texto para letras maiusculas. Apos isso,\n",
        "  ### é feito um loop que cifra cada caracter do texto de acordo com a chave dada.\n",
        "  ### O processo é feito usando a tabela ASCII como referência ('A' = 65). Todo caracter\n",
        "  ### é adicionado a variavel cipher_text e como saida temos o texto criptografado.\n",
        "  \"\"\"\n",
        "  plain_text = plain_text.upper()\n",
        "  cipher_text = \"\"\n",
        "  for char in plain_text:\n",
        "    if char.isalpha():\n",
        "      cipher_text += chr(((ord(char) - 65 + key) % 26) + 65)\n",
        "    else:\n",
        "      #caracteres especiais (nao alfabeticos) sao só adicionados na mensagem, sem troca\n",
        "      cipher_text += char\n",
        "\n",
        "  print(cipher_text)\n",
        "  return cipher_text\n",
        "\n",
        "test = \"Olamundo!Tudobem?\"\n",
        "cifra_cesar = 3\n",
        "texto_cifrado = enc_shift(test, cifra_cesar)"
      ]
    },
    {
      "cell_type": "markdown",
      "source": [
        "###Função de Descriptografar (Brute Force)\n",
        "\n",
        "Na forma de resolução por meio do brute force, é necessário fazer 25 iterações, cada uma correspondendo a uma chave diferente no escopo do domínio no alfabeto. Após isso, utilizamos a chave da iteração para decriptografar a mensagem e checamos se ela é a chave correta que mostra a mensagem original.\n",
        "\n",
        "No código, no loop interno, apenas é necessário fazer o processo contrário da criptografia. Ou seja, subtraímos o valor da chave de uma iteração ao invés de soma-lá (ou seja, \"voltar\" no alfabeto de uma em uma letra, até encontrar a mensagem). No exemplo dado, é percebido que, de fato, a chave era k = 3.\n",
        "\n",
        "A abordagem tem tempo O(n). Até é plausível considerando o poder computacional atual e considerando o conjunto limitado de 26 elementos, mas pode ser resolvido de maneiras mais elegantes."
      ],
      "metadata": {
        "id": "YNQluWtElj15"
      }
    },
    {
      "cell_type": "code",
      "source": [
        "def dec_brute_force(cipher_text):\n",
        "  \"\"\"\n",
        "  ### Por brute force, o processo de decriptografar a shift cesar é simples.\n",
        "  ### Só é necessário cobrir o espaço tal que |n| = 26. Assim, é garantido que\n",
        "  ### todas as cifras são testastas e, logo, a mensagem será decriptografada.\n",
        "  ### Como na funcao de criptografar é somada a chave, nessa, a chave é subtraida\n",
        "  ### para encontrar a letra original.\n",
        "  \"\"\"\n",
        "  plain_text = \"\"\n",
        "\n",
        "  for i in range(26):\n",
        "    key = i\n",
        "\n",
        "    for char in cipher_text:\n",
        "      if char.isalpha():\n",
        "        plain_text += chr(((ord(char) - 65 - key) % 26) + 65)\n",
        "      else:\n",
        "        plain_text += char\n",
        "    print(f'Chave {key} : {plain_text}')\n",
        "    plain_text = \"\"\n",
        "\n",
        "dec_brute_force(texto_cifrado)"
      ],
      "metadata": {
        "colab": {
          "base_uri": "https://localhost:8080/"
        },
        "id": "Eor2VgUfjSkS",
        "outputId": "6f4b8e52-b1e7-4c5e-a5f5-f9ef36db7243"
      },
      "execution_count": null,
      "outputs": [
        {
          "output_type": "stream",
          "name": "stdout",
          "text": [
            "Chave 0 : RODPXQGR!WXGREHP?\n",
            "Chave 1 : QNCOWPFQ!VWFQDGO?\n",
            "Chave 2 : PMBNVOEP!UVEPCFN?\n",
            "Chave 3 : OLAMUNDO!TUDOBEM?\n",
            "Chave 4 : NKZLTMCN!STCNADL?\n",
            "Chave 5 : MJYKSLBM!RSBMZCK?\n",
            "Chave 6 : LIXJRKAL!QRALYBJ?\n",
            "Chave 7 : KHWIQJZK!PQZKXAI?\n",
            "Chave 8 : JGVHPIYJ!OPYJWZH?\n",
            "Chave 9 : IFUGOHXI!NOXIVYG?\n",
            "Chave 10 : HETFNGWH!MNWHUXF?\n",
            "Chave 11 : GDSEMFVG!LMVGTWE?\n",
            "Chave 12 : FCRDLEUF!KLUFSVD?\n",
            "Chave 13 : EBQCKDTE!JKTERUC?\n",
            "Chave 14 : DAPBJCSD!IJSDQTB?\n",
            "Chave 15 : CZOAIBRC!HIRCPSA?\n",
            "Chave 16 : BYNZHAQB!GHQBORZ?\n",
            "Chave 17 : AXMYGZPA!FGPANQY?\n",
            "Chave 18 : ZWLXFYOZ!EFOZMPX?\n",
            "Chave 19 : YVKWEXNY!DENYLOW?\n",
            "Chave 20 : XUJVDWMX!CDMXKNV?\n",
            "Chave 21 : WTIUCVLW!BCLWJMU?\n",
            "Chave 22 : VSHTBUKV!ABKVILT?\n",
            "Chave 23 : URGSATJU!ZAJUHKS?\n",
            "Chave 24 : TQFRZSIT!YZITGJR?\n",
            "Chave 25 : SPEQYRHS!XYHSFIQ?\n"
          ]
        }
      ]
    },
    {
      "cell_type": "markdown",
      "source": [
        "### Função Descriptografar (Distribuição de Frequência)"
      ],
      "metadata": {
        "id": "z4iupjl02hIf"
      }
    },
    {
      "cell_type": "markdown",
      "source": [
        "Nesta forma de decriptografar, o objetivo é tentar encontrar uma maneira mais elegante e com menos gastos de recursos para decriptografar a mensagem, usando a frequencia de letras na língua ao seu favor.\n",
        "\n",
        "Neste caso, foi utilizado a tabela de frequencia da língua portuguesa indicada nos slides, presente no seguinte link: https://www.dcc.fc.up.pt/~rvr/naulas/tabelasPT/ .\n",
        "\n",
        "Algo interessante do português é perceber que sua gramática utiliza bastante das vogais, devido a vários motivos linguísticos, especialmente as vogais \"a\", \"e\" e \"o\". Segundo a tabelas, elas são disparadamente, as letras mais usadas do alfabeto, tendo uma tendência acima de 10.0. Por isso, os testes de quebra serão feitos com base nessas três vogais.\n",
        "\n",
        "A complexidade do algoritmo depende do tamanho de caracteres mais frequentes da língua a pessoa queira pegar. No pior caso, ele pode chegar a O(n^2). Porém, considerando que esse caso é improvável pela possibilidade de quebrar a cifra sem necessitar de tantos elementos do conjunto, o algoritmo executa em O(n)."
      ],
      "metadata": {
        "id": "PiSRcIsj8s9b"
      }
    },
    {
      "cell_type": "code",
      "source": [
        "#dicionario com a distribuicoes por letra para referencia\n",
        "frequencia = {\"A\": 13.9, \"B\": 1.0, \"C\": 4.4, \"D\": 5.4, \"E\": 12.2, \"F\": 1.0, \"G\": 1.2, \"H\": 0.8, \"I\": 6.9, \"J\": 0.4,\n",
        "              \"K\": 0.1, \"L\": 2.8, \"M\": 4.2, \"N\": 5.3, \"O\": 10.8, \"P\": 2.9, \"Q\": 0.9, \"R\": 6.9, \"S\": 7.9, \"T\": 4.9,\n",
        "              \"U\": 4.0, \"V\": 1.3, \"W\": 0.0, \"X\": 0.3, \"Y\": 0.0, \"Z\": 0.4}\n",
        "\n",
        "\n",
        "def dec_distribution(cipher_text):\n",
        "  chars_distri = {}                 #dicionario para distribuicao de caracteres da mensagem\n",
        "  letras_frequentes = [0, 4, 14]    #lista com [\"A\", \"E\", \"O\"] já consideradas como números para resolver a cifra\n",
        "\n",
        "  #é feito um loop onde o resultado são as letras e suas frequencias pelo texto\n",
        "  for char in cipher_text:\n",
        "    if char.isalpha():\n",
        "      if char in chars_distri:\n",
        "        chars_distri[char] += 1\n",
        "      else:\n",
        "        chars_distri[char] = 1\n",
        "\n",
        "  #é feita uma list comprehension para definir as letras que mais se repetem no texto\n",
        "  temp = max(chars_distri.values())\n",
        "  letras_frequentes_cifra = [letra for letra in chars_distri if chars_distri[letra] == temp]\n",
        "\n",
        "  '''funcao para descriptografar o texto, tendo como contexto as letras mais repetidas no loop\n",
        "    interno é comparado uma das letras mais repetidas no texto cifrado com 'A', 'E' e 'O' '''\n",
        "  for letra in letras_frequentes_cifra:\n",
        "    plain_text = \"\"\n",
        "    keys = []                                   #lista de possíveis chaves\n",
        "    for l in letras_frequentes:\n",
        "      keys.append((ord(letra) - 65 - l) % 26)   #valor de uma possível chave comparando letras repetidas com 'A', 'E', 'O'\n",
        "      key = (ord(letra) - 65 - l) % 26\n",
        "      print(f'Caso k={key} e \"{letra}\" seja \"{chr(l + 65)}\":')\n",
        "\n",
        "      #o texto é descriptografado com base na chave atual da iteração\n",
        "      for char in cipher_text:\n",
        "        if char.isalpha():\n",
        "          plain_text += chr(((ord(char) - 65 - key) % 26) + 65)\n",
        "        else:\n",
        "          plain_text += char\n",
        "      print(plain_text + \"\\n\")\n",
        "      plain_text = \"\"\n",
        "\n",
        "dec_distribution(texto_cifrado)"
      ],
      "metadata": {
        "colab": {
          "base_uri": "https://localhost:8080/"
        },
        "id": "138XAzSGy3Tu",
        "outputId": "a964b28c-2008-4a4d-edae-6554b9652854"
      },
      "execution_count": null,
      "outputs": [
        {
          "output_type": "stream",
          "name": "stdout",
          "text": [
            "Caso k=17 e \"R\" seja \"A\":\n",
            "AXMYGZPA!FGPANQY?\n",
            "\n",
            "Caso k=13 e \"R\" seja \"E\":\n",
            "EBQCKDTE!JKTERUC?\n",
            "\n",
            "Caso k=3 e \"R\" seja \"O\":\n",
            "OLAMUNDO!TUDOBEM?\n",
            "\n"
          ]
        }
      ]
    },
    {
      "cell_type": "markdown",
      "source": [
        "## Exercício 2: Quebrando Transposition Cipher\n",
        "\n",
        "Ex2: Quebrando Cifra por Transposição\n",
        "\n",
        "* Elaborar o código para realizar a cifra por transposição (dica: pode escolher o método de permutação);\n",
        "* Elaborar o código que quebra a cifra por transposição, descodificando por análises ao texto cifrado (CipherText-only):\n",
        "  * O resultado será o texto decriptografado\n",
        "  * Descrever a técnica de permutação utilizada no algoritmo para encriptar e estratégia de quebra da cifra."
      ],
      "metadata": {
        "id": "kWiJYeC5t1Y1"
      }
    },
    {
      "cell_type": "markdown",
      "source": [
        "### Função Encriptação (`transposition_enc`)\n",
        "\n"
      ],
      "metadata": {
        "id": "BVSdjy_kPPbp"
      }
    },
    {
      "cell_type": "markdown",
      "source": [
        "Nessa função de encriptar, o objetivo é transpor a mensagem e a embaralhar por meio de colunas que serão postas em ordem. Para isso é usada uma chave (k = 4).\n",
        "\n",
        "O processo de cifra que é formado por colunas foi feito com um dicionário, em que suas chaves sao os indexes das colunas em `range(4)` (ou seja, 0-1-2-3). Os valores desse dicionário são listas que contém os caracteres que ficam alocados em cada coluna. No final, são alocados valores de letras aleatórias caso a string original não complete a última linha da matriz.\n",
        "\n",
        "As letras são alocadas nas listas em `dict.values()` com ajuda de variáveis auxiliares:\n",
        "  * **num_cols**: variável com o número total de colunas que há para essa cifra.\n",
        "  \n",
        "  * **aux**: uma lista auxiliar que contém os elementos que são as chaves do dicionário. Em outras palavras, o número que representa o index da coluna.\n",
        "\n",
        "  * **i**: iterador pelo módulo no número de colunas (num_cols). Garante que cada letra seja posta em sua devida lista na chave do dicionário, já que o módulo tem um loop continuo em aux. Nesse caso, com 4 colunas, ele ira iterar até n = 3 e depois retornar para a coluna 0."
      ],
      "metadata": {
        "id": "LOPKaC-HVJaK"
      }
    },
    {
      "cell_type": "code",
      "source": [
        "import string\n",
        "import random\n",
        "\n",
        "key = 4\n",
        "\n",
        "plain_text = \"esse texto estranho\"\n",
        "\n",
        "def transposition_enc(key, plain_text):\n",
        "  \"\"\"\"\n",
        "  ### É feito um dicionario para a cifra, onde a chave do dicionario corresponde\n",
        "  ### ao indíce de uma coluna. Já o valor de cada chave é uma lista que contém\n",
        "  ### as letras colocadas na determinada coluna.\n",
        "  \"\"\"\n",
        "  cipher = {}\n",
        "  for i in range(key):\n",
        "    cipher[i] = []\n",
        "\n",
        "  plain_text = (plain_text.replace(\" \", \"\")).upper()         #texto é passado para letras maiúsculas e retirado os espaços p/ facilitar criptografia\n",
        "  num_cols = len(cipher)                                     #variavel auxiliar com o numero de colunas\n",
        "  total_chars = num_cols * (len(plain_text) // num_cols + 1) #calculo do total de caracteres p/ preencher toda a matriz (colunas * linhas)\n",
        "\n",
        "  while (len(plain_text) != total_chars):\n",
        "    plain_text += random.choice(string.ascii_uppercase) #caso a matriz nao fique completa, é posto mais chars pseudo-aleatorios na mensagem\n",
        "\n",
        "  aux = list(cipher.keys())                           #lista auxiliar com os indíces (chaves numericas) de cada coluna\n",
        "  i = 0                                               #iterador que será usado para lista auxiliar (aux)\n",
        "\n",
        "  '''É feito a alocação das letras com base nas colunas. A lista aux é usada\n",
        "    junto com o iterador para definir em qual coluna cada letra irá ficar. '''\n",
        "  for letra in plain_text:\n",
        "    cipher[aux[i]].append(letra)   #letra é colocada no final da lista de uma key do dict cipher\n",
        "    i = (i+1) % num_cols           #indice é mod |numero de colunas|, p/ garantir seu loop mesmo apos iterar uma vez pela lista\n",
        "\n",
        "  #print(cipher)\n",
        "  cipher_text = \"\"\n",
        "\n",
        "  #loop para adicionar cada letra de cada coluna como texto cifrado\n",
        "  for coluna in cipher.values():\n",
        "    for letra in coluna:\n",
        "      cipher_text += letra\n",
        "\n",
        "  return cipher_text\n",
        "\n",
        "cipher_text = transposition_enc(key, plain_text)\n",
        "print(cipher_text)"
      ],
      "metadata": {
        "colab": {
          "base_uri": "https://localhost:8080/"
        },
        "id": "8u3J6b-Zuq3f",
        "outputId": "925f9168-a134-40a6-e811-3b9be0566d02"
      },
      "execution_count": null,
      "outputs": [
        {
          "output_type": "stream",
          "name": "stdout",
          "text": [
            "ETOROSEEAQSXSNSETTHT\n"
          ]
        }
      ]
    },
    {
      "cell_type": "markdown",
      "source": [
        "### Função Descriptografar (`transposition_dec`)\n",
        "\n",
        "A função de decriptografia é feita com base na quantidade de caracteres presentes no texto cifrado. Com base nisso, é possível **encontrar os múltiplos de tal número que sejam condizentes a uma possível matriz**. Assim, a configuração original das linhas e colunas necessariamente precisa ser um dos múltiplos de n (onde n é o numero de letras em cipher_text), pelo fato do algoritmo de encriptação tratar os casos simétricos.\n",
        "\n",
        "Com base nisso, o algoritmo pega a lista de todos os múltiplos de n e testa cada um dos casos numa **transposição de matriz**. Isso é, se na cifra original uma palavra estava escrita em colunas, esse algoritmo passa os elementos para linhas com base no loop e com auxílio do mod de linhas (que, no fim, é um outro multiplo da cifra multiplicado pelo múltiplo do laço atual para resultar no tamanho da cifra).\n"
      ],
      "metadata": {
        "id": "jQ_xdvnazavK"
      }
    },
    {
      "cell_type": "code",
      "source": [
        "len_cipher = len(cipher_text) #numero total de letras da cifra\n",
        "multiplos = [multiplo for multiplo in range(2, len_cipher) if (len_cipher % multiplo == 0)] #calculo dos multiplos de len_cipher, para determinar possiveis tamanhos da matriz\n",
        "\n",
        "def transposition_dec(cipher_text):\n",
        "  ''' Nessa função de decriptação da cifra por transposição, é pego cada um dos múltiplos da lista para tentar quebrar a cifra.\n",
        "  ### Ela utiliza uma transposição de matriz para conseguir retornar os caracteres das colunas em suas posições originais, mas\n",
        "  ### com todos os caracteres em ordem nas linhas (listas) da matriz, pois facilita o processo de printar a mensagem.\n",
        "  ### O processo é bem sucedido graças aos módulos de'''\n",
        "\n",
        "  for multiplo in multiplos:\n",
        "    linhas = len_cipher // multiplo\n",
        "    colunas = len_cipher // linhas\n",
        "    matriz = [['' for _ in range(colunas)] for _ in range(linhas)] #uma nested list comprehension, onde é criada a matriz para colocação dos caracteres\n",
        "\n",
        "    i, j = 0, 0\n",
        "\n",
        "    for letra in cipher_text:\n",
        "      ''' Caso mod(num. linhas) = 0, o iterador percorreu toda a linha da matriz de cifragem original. Isso significa que o proximo caractere\n",
        "      ### deve ser a primeira letra da linha seguinte. Ou seja, é o proximo char de uma coluna original de plain_text, para o múltiplo correto.\n",
        "      ### Com isso, j é iterado para que esse char seja posto na posição seguinte da lista que representa as letras em ordem original. '''\n",
        "\n",
        "      matriz[i][j] = letra\n",
        "      i = (i + 1) % linhas\n",
        "      if i == 0:\n",
        "        j += 1\n",
        "\n",
        "    #print(matriz, colunas, linhas, multiplo, cipher_text, i, j)\n",
        "    plain_text = \"\".join([\"\".join(coluna) for coluna in matriz])    #operação join feita para juntar os caracteres da matriz em uma string\n",
        "    print(f'Para multiplo = {multiplo}, matriz[{linhas} x {colunas}], é decifrado: {plain_text}\\n')\n",
        "\n",
        "\n",
        "\n",
        "#print(len_cipher, multiplos)\n",
        "transposition_dec(cipher_text)"
      ],
      "metadata": {
        "colab": {
          "base_uri": "https://localhost:8080/"
        },
        "id": "1rVlmS_8r9_h",
        "outputId": "c561008d-d5db-4348-b5b7-94a12365fee5"
      },
      "execution_count": null,
      "outputs": [
        {
          "output_type": "stream",
          "name": "stdout",
          "text": [
            "Para multiplo = 2, matriz[10 x 2], é decifrado: ESTXOSRNOSSEETETAHQT\n",
            "\n",
            "Para multiplo = 4, matriz[5 x 4], é decifrado: ESSETEXTOESTRANHOQST\n",
            "\n",
            "Para multiplo = 5, matriz[4 x 5], é decifrado: EOASTTSQNTOESSHREXET\n",
            "\n",
            "Para multiplo = 10, matriz[2 x 10], é decifrado: EOOEASSSTHTRSEQXNETT\n",
            "\n"
          ]
        }
      ]
    }
  ]
}